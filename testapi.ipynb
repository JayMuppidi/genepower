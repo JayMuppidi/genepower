{
 "cells": [
  {
   "cell_type": "code",
   "execution_count": 2,
   "metadata": {},
   "outputs": [
    {
     "name": "stdout",
     "output_type": "stream",
     "text": [
      "Collecting requests\n",
      "  Downloading requests-2.31.0-py3-none-any.whl.metadata (4.6 kB)\n",
      "Collecting charset-normalizer<4,>=2 (from requests)\n",
      "  Downloading charset_normalizer-3.3.2-cp311-cp311-manylinux_2_17_x86_64.manylinux2014_x86_64.whl.metadata (33 kB)\n",
      "Requirement already satisfied: idna<4,>=2.5 in /home/jay/.venv/lib/python3.11/site-packages (from requests) (3.6)\n",
      "Collecting urllib3<3,>=1.21.1 (from requests)\n",
      "  Downloading urllib3-2.2.1-py3-none-any.whl.metadata (6.4 kB)\n",
      "Requirement already satisfied: certifi>=2017.4.17 in /home/jay/.venv/lib/python3.11/site-packages (from requests) (2024.2.2)\n",
      "Downloading requests-2.31.0-py3-none-any.whl (62 kB)\n",
      "\u001b[2K   \u001b[90m━━━━━━━━━━━━━━━━━━━━━━━━━━━━━━━━━━━━━━━━\u001b[0m \u001b[32m62.6/62.6 kB\u001b[0m \u001b[31m3.3 MB/s\u001b[0m eta \u001b[36m0:00:00\u001b[0m\n",
      "\u001b[?25hDownloading charset_normalizer-3.3.2-cp311-cp311-manylinux_2_17_x86_64.manylinux2014_x86_64.whl (140 kB)\n",
      "\u001b[2K   \u001b[90m━━━━━━━━━━━━━━━━━━━━━━━━━━━━━━━━━━━━━━━━\u001b[0m \u001b[32m140.3/140.3 kB\u001b[0m \u001b[31m5.7 MB/s\u001b[0m eta \u001b[36m0:00:00\u001b[0m\n",
      "\u001b[?25hDownloading urllib3-2.2.1-py3-none-any.whl (121 kB)\n",
      "\u001b[2K   \u001b[90m━━━━━━━━━━━━━━━━━━━━━━━━━━━━━━━━━━━━━━━━\u001b[0m \u001b[32m121.1/121.1 kB\u001b[0m \u001b[31m14.2 MB/s\u001b[0m eta \u001b[36m0:00:00\u001b[0m\n",
      "\u001b[?25hInstalling collected packages: urllib3, charset-normalizer, requests\n",
      "Successfully installed charset-normalizer-3.3.2 requests-2.31.0 urllib3-2.2.1\n",
      "Note: you may need to restart the kernel to use updated packages.\n"
     ]
    }
   ],
   "source": [
    "%pip install requests"
   ]
  },
  {
   "cell_type": "code",
   "execution_count": 2,
   "metadata": {},
   "outputs": [
    {
     "name": "stdout",
     "output_type": "stream",
     "text": [
      "   index  patient_id                                          Condition  \\\n",
      "0      1         752                                    Muscular_health   \n",
      "1      2         752                                    Muscular_health   \n",
      "2      3         752  Polygenic (Familial combined, small dense LDL,...   \n",
      "3      4         752                                  Parkisons Disease   \n",
      "4      5         752                                 Ciliary dyskinesia   \n",
      "\n",
      "                        Headings     21_Conditions_list  \\\n",
      "0                Muscular_health        Muscular_health   \n",
      "1                Muscular_health        Muscular_health   \n",
      "2          Cholesterol disorders  Cholesterol_Disorders   \n",
      "3              Parkisons Disease             Parkinsons   \n",
      "4  Allergies (Respiratory, Food)              Allergies   \n",
      "\n",
      "                    Gene Name    Gene Gene_Score        rsID Literature  ...  \\\n",
      "0                       POMT2   POMT2        4.0   rs1055592         No  ...   \n",
      "1                      TUBA1A  TUBA1A        4.0   rs1056875         No  ...   \n",
      "2  LOC102724528,C1orf105,PIGC    PIGC        4.0   rs1063412         No  ...   \n",
      "3                       GNAO1   GNAO1        4.0   rs1065375         No  ...   \n",
      "4                      CCDC65  CCDC65        6.0  rs10747556         No  ...   \n",
      "\n",
      "   MAX_AF  MAX_AF_POPS                  BIOTYPE   EXON INTRON  \\\n",
      "0  0.4420  gnomADg EAS           protein coding  21/21    0/0   \n",
      "1  0.7420  gnomADe EAS           protein coding    3/4    0/0   \n",
      "2  0.6597          EAS           protein coding    2/2    0/0   \n",
      "3  0.7589          EAS  nonsense mediated decay    4/8    0/0   \n",
      "4  0.5526  gnomADe AMR           protein coding    3/9    0/0   \n",
      "\n",
      "  Protein Position and Amino Acid   Codons STRAND  \\\n",
      "0                           R773W  Cgg/Tgg     -1   \n",
      "1                           K104R  aAg/aGg     -1   \n",
      "2                           P266S  Cca/Tca     -1   \n",
      "3                           R118*  Cga/Tga      1   \n",
      "4                           H133R  cAc/cGc      1   \n",
      "\n",
      "                                              PUBMED  \\\n",
      "0                                               None   \n",
      "1                                  25741868,18414213   \n",
      "2  22488871,24968232,24490137,23162014,32327693,3...   \n",
      "3                                           30089915   \n",
      "4                                           24033266   \n",
      "\n",
      "                      CLIN_SIG  \n",
      "0                       benign  \n",
      "1  benign/likely benign,benign  \n",
      "2                       benign  \n",
      "3                       benign  \n",
      "4                       benign  \n",
      "\n",
      "[5 rows x 77 columns]\n"
     ]
    },
    {
     "name": "stderr",
     "output_type": "stream",
     "text": [
      "/tmp/ipykernel_95250/2299812736.py:11: FutureWarning: Passing literal json to 'read_json' is deprecated and will be removed in a future version. To read from a literal string, wrap it in a 'StringIO' object.\n",
      "  df = pd.read_json(response.json())\n"
     ]
    }
   ],
   "source": [
    "import requests\n",
    "import json\n",
    "import pandas as pd\n",
    "url = \"http://127.0.0.1:8000/patient_analyzed\"\n",
    "params = {'patient_id': 752}\n",
    "\n",
    "response = requests.get(url, params=params)\n",
    "with open('example_response.json', 'w') as f:\n",
    "    json.dump(response.json(), f)\n",
    "\n",
    "df = pd.read_json(response.json())\n",
    "print(df.head())\n",
    "\n"
   ]
  },
  {
   "cell_type": "code",
   "execution_count": 8,
   "metadata": {},
   "outputs": [
    {
     "name": "stdout",
     "output_type": "stream",
     "text": [
      "{'filename': 'IIIT_HYD_Anonymous1.csv', 'patient_id': 20}\n"
     ]
    }
   ],
   "source": [
    "import requests\n",
    "\n",
    "# Define the URL of the API endpoint\n",
    "url = \"http://127.0.0.1:8000/upload_vcf\"\n",
    "\n",
    "# Define the file you want to upload\n",
    "files = {\"file\": open(\"../processedFinal2/IIIT_HYD_Anonymous1.csv\", \"rb\")}\n",
    "\n",
    "# Define the patient_id\n",
    "params = {\"patient_id\": 20}\n",
    "\n",
    "# Make the POST request to the API endpoint with the file and patient_id\n",
    "response = requests.post(url, files=files, params=params)\n",
    "\n",
    "# Print the response\n",
    "print(response.json())"
   ]
  }
 ],
 "metadata": {
  "kernelspec": {
   "display_name": ".venv",
   "language": "python",
   "name": "python3"
  },
  "language_info": {
   "codemirror_mode": {
    "name": "ipython",
    "version": 3
   },
   "file_extension": ".py",
   "mimetype": "text/x-python",
   "name": "python",
   "nbconvert_exporter": "python",
   "pygments_lexer": "ipython3",
   "version": "3.11.2"
  }
 },
 "nbformat": 4,
 "nbformat_minor": 2
}
