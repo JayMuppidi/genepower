{
 "cells": [
  {
   "cell_type": "code",
   "execution_count": 2,
   "metadata": {},
   "outputs": [
    {
     "name": "stdout",
     "output_type": "stream",
     "text": [
      "['../../vcfFiles/IIIT_HYD_Anonymous63.vcf', '../../vcfFiles/IIIT_HYD_Anonymous36.vcf', '../../vcfFiles/IIIT_HYD_Anonymous3.vcf', '../../vcfFiles/IIIT_HYD_Anonymous12.vcf', '../../vcfFiles/IIIT_HYD_Anonymous9.vcf', '../../vcfFiles/IIIT_HYD_Anonymous2.vcf', '../../vcfFiles/IIIT_HYD_Anonymous40.vcf', '../../vcfFiles/IIIT_HYD_Anonymous29.vcf', '../../vcfFiles/IIIT_HYD_Anonymous50.vcf', '../../vcfFiles/IIIT_HYD_Anonymous43.vcf', '../../vcfFiles/IIIT_HYD_Anonymous5.vcf', '../../vcfFiles/IIIT_HYD_Anonymous26.vcf', '../../vcfFiles/IIIT_HYD_Anonymous37.vcf', '../../vcfFiles/IIIT_HYD_Anonymous6.vcf', '../../vcfFiles/IIIT_HYD_Anonymous38.vcf', '../../vcfFiles/IIIT_HYD_Anonymous13.vcf', '../../vcfFiles/IIIT_HYD_Anonymous49.vcf', '../../vcfFiles/IIIT_HYD_Anonymous31.vcf', '../../vcfFiles/IIIT_HYD_Anonymous33.vcf', '../../vcfFiles/IIIT_HYD_Anonymous53.vcf', '../../vcfFiles/IIIT_HYD_Anonymous18.vcf', '../../vcfFiles/IIIT_HYD_Anonymous64.vcf', '../../vcfFiles/IIIT_HYD_Anonymous48.vcf', '../../vcfFiles/IIIT_HYD_Anonymous59.vcf', '../../vcfFiles/IIIT_HYD_Anonymous20.vcf', '../../vcfFiles/IIIT_HYD_Anonymous21.vcf', '../../vcfFiles/IIIT_HYD_Anonymous15.vcf']\n",
      "27\n"
     ]
    }
   ],
   "source": [
    "import os\n",
    "def check_files(directory, processed_directory):\n",
    "    missing_files = []\n",
    "    for filename in os.listdir(directory):\n",
    "        if filename.endswith('.vcf'):\n",
    "            csv_filename = filename[:-4] + '.csv'\n",
    "            if csv_filename not in os.listdir(processed_directory):\n",
    "                missing_files.append(os.path.join(directory,filename))\n",
    "    return missing_files\n",
    "\n",
    "vcf_directory = \"../../vcfFiles\"\n",
    "vcf_directory2 = \"../../vcfFiles2\"\n",
    "processed_directory = \"../../semi_processed2\"\n",
    "\n",
    "missing_files = check_files(vcf_directory, processed_directory)\n",
    "missing_files.extend(check_files(vcf_directory2, processed_directory))\n",
    "print((missing_files))\n",
    "print(len(missing_files))"
   ]
  }
 ],
 "metadata": {
  "kernelspec": {
   "display_name": ".venv",
   "language": "python",
   "name": "python3"
  },
  "language_info": {
   "codemirror_mode": {
    "name": "ipython",
    "version": 3
   },
   "file_extension": ".py",
   "mimetype": "text/x-python",
   "name": "python",
   "nbconvert_exporter": "python",
   "pygments_lexer": "ipython3",
   "version": "3.11.8"
  }
 },
 "nbformat": 4,
 "nbformat_minor": 2
}
