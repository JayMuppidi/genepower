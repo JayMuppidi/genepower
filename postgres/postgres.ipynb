{
 "cells": [
  {
   "cell_type": "code",
   "execution_count": 1,
   "id": "faeacba0",
   "metadata": {},
   "outputs": [
    {
     "name": "stderr",
     "output_type": "stream",
     "text": [
      "/tmp/ipykernel_621649/1478519670.py:2: DeprecationWarning: \n",
      "Pyarrow will become a required dependency of pandas in the next major release of pandas (pandas 3.0),\n",
      "(to allow more performant data types, such as the Arrow string type, and better interoperability with other libraries)\n",
      "but was not found to be installed on your system.\n",
      "If this would cause problems for you,\n",
      "please provide us feedback at https://github.com/pandas-dev/pandas/issues/54466\n",
      "        \n",
      "  import pandas as pd #data manipulation and analysis\n"
     ]
    }
   ],
   "source": [
    "import numpy as np #scientific computing\n",
    "import pandas as pd #data manipulation and analysis\n",
    "import sys #used for handling command-line arguments\n",
    "import re #used for working with patterns in strings\n",
    "\n",
    "import os #to read env variables\n",
    "import tqdm #progress bar\n",
    "import time\n",
    "import psycopg2 #used for interacting with the database\n",
    "from sqlalchemy import create_engine\n",
    "from io import StringIO\n",
    "import csv\n",
    "from dotenv import load_dotenv\n",
    "from helpers import *\n",
    "from postgres_helpers import *"
   ]
  },
  {
   "cell_type": "code",
   "execution_count": 4,
   "id": "5891e398",
   "metadata": {},
   "outputs": [],
   "source": [
    "load_dotenv()# write details like host, user, password, dbname in .env file, this loads them into this script\n",
    "db_name = os.getenv(\"PG_DB_NAME\")\n",
    "user = os.getenv(\"PG_DB_USER\")\n",
    "password = os.getenv(\"PG_DB_PASSWORD\")\n",
    "host = os.getenv(\"PG_DB_HOST\")\n",
    "port = int(os.getenv(\"PG_DB_PORT\"))"
   ]
  },
  {
   "cell_type": "code",
   "execution_count": 2,
   "id": "44047ade",
   "metadata": {},
   "outputs": [
    {
     "name": "stdout",
     "output_type": "stream",
     "text": [
      "2015\n"
     ]
    }
   ],
   "source": [
    "csv_file_path = '../processed'\n",
    "num_duplicates = 30\n",
    "all_dataframes = process_data(csv_file_path, num_duplicates)\n",
    "print(len(all_dataframes))"
   ]
  },
  {
   "cell_type": "code",
   "execution_count": 6,
   "id": "20d80eb9",
   "metadata": {},
   "outputs": [
    {
     "name": "stdout",
     "output_type": "stream",
     "text": [
      "Time taken to insert using to_sql:  209.08628797531128\n"
     ]
    }
   ],
   "source": [
    "\n",
    "engine = create_engine(f'postgresql+psycopg2://{user}:{password}@{host}:{port}/{db_name}')\n",
    "\n",
    "startTime = time.time()\n",
    "df_concat = pd.concat(all_dataframes)\n",
    "df_concat.to_sql('model1', con=engine, if_exists='append', index=False)\n",
    "engine.dispose()\n",
    "\n",
    "\n",
    "endTime = time.time()\n",
    "insertionTime = endTime - startTime\n",
    "print(\"Time taken to insert using to_sql: \", insertionTime)"
   ]
  },
  {
   "cell_type": "code",
   "execution_count": 9,
   "id": "d3c7a66a",
   "metadata": {},
   "outputs": [
    {
     "name": "stdout",
     "output_type": "stream",
     "text": [
      "SELECT COUNT(*) FROM model1\n",
      "[(526783,)]\n",
      "Time for this query was:  53.77531051635742 ms\n",
      "SELECT COUNT(*) FROM model1 WHERE \"Zygosity\" = 'Homozygous'\n",
      "[(86614,)]\n",
      "Time for this query was:  63.73739242553711 ms\n",
      "SELECT COUNT(*) FROM model1 WHERE \"Zygosity\" = 'Heterozygous' AND \"Gene\" LIKE 'PADI4'\n",
      "[(1457,)]\n",
      "Time for this query was:  65.18077850341797 ms\n",
      "SELECT COUNT(*) FROM model1 WHERE \"Gene\" LIKE 'PADI4'\n",
      "[(1984,)]\n",
      "Time for this query was:  59.91029739379883 ms\n"
     ]
    }
   ],
   "source": [
    " #\"SELECT (*) FROM model2 LIMIT 1\",\n",
    "queries = [\n",
    "    \"SELECT COUNT(*) FROM model1\",\n",
    "    \"SELECT COUNT(*) FROM model1 WHERE \\\"Zygosity\\\" = 'Homozygous'\",\n",
    "    \"SELECT COUNT(*) FROM model1 WHERE \\\"Zygosity\\\" = 'Heterozygous' AND \\\"Gene\\\" LIKE 'PADI4'\",\n",
    "    \"SELECT COUNT(*) FROM model1 WHERE \\\"Gene\\\" LIKE 'PADI4'\",\n",
    "]\n",
    "for query in queries:\n",
    "    print(query)\n",
    "    result, timeTaken = runQ(query,postgresQ)\n",
    "    print(result)\n",
    "    print(\"Time for this query was: \", timeTaken*1000, \"ms\")"
   ]
  }
 ],
 "metadata": {
  "kernelspec": {
   "display_name": "Python 3 (ipykernel)",
   "language": "python",
   "name": "python3"
  },
  "language_info": {
   "codemirror_mode": {
    "name": "ipython",
    "version": 3
   },
   "file_extension": ".py",
   "mimetype": "text/x-python",
   "name": "python",
   "nbconvert_exporter": "python",
   "pygments_lexer": "ipython3",
   "version": "3.11.7"
  }
 },
 "nbformat": 4,
 "nbformat_minor": 5
}
